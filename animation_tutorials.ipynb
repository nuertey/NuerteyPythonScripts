{
 "cells": [
  {
   "cell_type": "code",
   "execution_count": 8,
   "id": "60f03176",
   "metadata": {},
   "outputs": [
    {
     "name": "stdout",
     "output_type": "stream",
     "text": [
      "plotly.__version__:\n",
      "4.14.3\n",
      "\n",
      "version_to_int_list(plotly.__version__):\n",
      "[4, 14, 3]\n",
      "\n",
      "version_to_int_list('3.8.0'):\n",
      "[3, 8, 0]\n",
      "\n"
     ]
    }
   ],
   "source": [
    "import numpy as np\n",
    "import pandas as pd\n",
    "import bqplot\n",
    "from bqplot import pyplot as plt\n",
    "from bqplot import pyplot as bplt\n",
    "import ipywidgets as widgets\n",
    "import ipyvolume as ipv\n",
    "\n",
    "import plotly\n",
    "import plotly.graph_objects as go\n",
    "import plotly.express as px\n",
    "\n",
    "import time\n",
    "\n",
    "from datetime import datetime\n",
    "from dateutil.relativedelta import relativedelta\n",
    "from numpy import array\n",
    "from matplotlib.pyplot import *\n",
    "from nose.tools import assert_equal\n",
    "from sklearn.datasets import load_iris, load_wine\n",
    "from sklearn.preprocessing import MinMaxScaler\n",
    "from ipyvolume.widgets import quickvolshow\n",
    "\n",
    "def version_to_int_list(version):\n",
    "    return [int(s) for s in version.split('.')]\n",
    "\n",
    "print('plotly.__version__:')\n",
    "print(plotly.__version__)\n",
    "print()\n",
    "\n",
    "print('version_to_int_list(plotly.__version__):')\n",
    "print(version_to_int_list(plotly.__version__))\n",
    "print()\n",
    "\n",
    "print('version_to_int_list(\\'3.8.0\\'):')\n",
    "print(version_to_int_list('3.8.0'))\n",
    "print()"
   ]
  },
  {
   "cell_type": "code",
   "execution_count": 2,
   "id": "d9a1ba17",
   "metadata": {},
   "outputs": [],
   "source": [
    "assert version_to_int_list(plotly.__version__) >= version_to_int_list('3.8.0'), 'Sunburst plots require Plotly >= 3.8.0'\n",
    "\n",
    "pd.set_option('display.max_rows', 100)\n",
    "pd.set_option('display.min_rows', 100)\n",
    "\n",
    "pd.options.mode.chained_assignment = None"
   ]
  },
  {
   "cell_type": "code",
   "execution_count": 4,
   "id": "772a8710",
   "metadata": {},
   "outputs": [
    {
     "data": {
      "application/vnd.jupyter.widget-view+json": {
       "model_id": "34eabe63941c4aeab0a0703bf8b2e0c3",
       "version_major": 2,
       "version_minor": 0
      },
      "text/plain": [
       "VBox(children=(Figure(axes=[Axis(scale=LinearScale(), side='bottom'), Axis(orientation='vertical', scale=Linea…"
      ]
     },
     "metadata": {},
     "output_type": "display_data"
    }
   ],
   "source": [
    "# ======================================================================\n",
    "# We'll now explain simple 2d animations with few examples. All of our \n",
    "# examples consist of below mentioned common steps:\n",
    "#\n",
    "#    Create bqplot Chart\n",
    "#    Create ipywidgets Button\n",
    "#    Create callback function for the button which will update chart data\n",
    "#    Register callback with button using on_click()\n",
    "#    Create UI combining button and bqplot figure using ipywidgets layout \n",
    "#    options.\n",
    "# ======================================================================\n",
    "plt.figure(1, title='Line Chart')\n",
    "np.random.seed(0)\n",
    "n = 200\n",
    "x = np.linspace(0.0, 10.0, n)\n",
    "y = np.cumsum(np.random.randn(n))\n",
    "plt.plot(x, y)\n",
    "plt.show()\n",
    "\n"
   ]
  },
  {
   "cell_type": "code",
   "execution_count": 5,
   "id": "077cee38",
   "metadata": {},
   "outputs": [
    {
     "data": {
      "application/vnd.jupyter.widget-view+json": {
       "model_id": "a22349d36f91427ca902107112ac0943",
       "version_major": 2,
       "version_minor": 0
      },
      "text/plain": [
       "VBox(children=(Figure(camera=PerspectiveCamera(fov=46.0, position=(0.0, 0.0, 2.0), projectionMatrix=(1.0, 0.0,…"
      ]
     },
     "metadata": {},
     "output_type": "display_data"
    },
    {
     "data": {
      "application/vnd.jupyter.widget-view+json": {
       "model_id": "093faf71c01c4b859e3858e347a96de4",
       "version_major": 2,
       "version_minor": 0
      },
      "text/plain": [
       "VBox(children=(Figure(camera=PerspectiveCamera(fov=46.0, position=(0.0, 0.0, 2.0), projectionMatrix=(1.0, 0.0,…"
      ]
     },
     "metadata": {},
     "output_type": "display_data"
    },
    {
     "data": {
      "application/vnd.jupyter.widget-view+json": {
       "model_id": "c40c1c0bf8b04fa48ed62bd6134d5126",
       "version_major": 2,
       "version_minor": 0
      },
      "text/plain": [
       "VBox(children=(VBox(children=(HBox(children=(Label(value='levels:'), FloatSlider(value=0.1, max=1.0, step=0.00…"
      ]
     },
     "metadata": {},
     "output_type": "display_data"
    }
   ],
   "source": [
    "# The following example does not work and nothing shown in the notebook\n",
    "# after this code snippet:\n",
    "x, y, z = np.random.random((3, 10000))\n",
    "ipv.quickscatter(x, y, z, size=1, marker=\"sphere\")\n",
    "ipv.show()\n",
    "\n",
    "# Same result as above for the following code:\n",
    "x, y, z, u, v = ipv.examples.klein_bottle(draw=False)\n",
    "ipv.figure()\n",
    "m = ipv.plot_mesh(x, y, z, wireframe=False)\n",
    "ipv.squarelim()\n",
    "ipv.show()\n",
    "\n",
    "# Only controls shown but no figures after running the following code:\n",
    "ds = ipv.datasets.aquariusA2.fetch()\n",
    "ipv.quickvolshow(ds.data, lighting=True)"
   ]
  },
  {
   "cell_type": "code",
   "execution_count": 7,
   "id": "3c761eec",
   "metadata": {},
   "outputs": [
    {
     "data": {
      "application/vnd.jupyter.widget-view+json": {
       "model_id": "c206ed15bc014520bda7f28c2919aca5",
       "version_major": 2,
       "version_minor": 0
      },
      "text/plain": [
       "VBox(children=(Button(description='Start', icon='play', style=ButtonStyle()), Figure(animation_duration=1000, …"
      ]
     },
     "metadata": {},
     "output_type": "display_data"
    }
   ],
   "source": [
    "# ======================================================================\n",
    "# Example 1\n",
    "#\n",
    "# Our first example consists of simple animation based on a scatter plot\n",
    "# in bqplot. We'll be creating a simple scatter plot consisting of 100 \n",
    "# random points. We have used bqplot's pyplot API to create a scatter \n",
    "# chart of 100 random points below.\n",
    "# ======================================================================\n",
    "\n",
    "## Chart Creation Logic\n",
    "colors= [\"red\", \"green\", \"blue\", \"orangered\", \"tomato\", \"lawngreen\", \n",
    "         \"lime\", \"pink\", \"gray\", \"black\"]\n",
    "\n",
    "figure_1 = plt.figure(animation_duration=1000, \n",
    "                       title=\"Random Data Scatter Chart\")\n",
    "figure_1.layout.width=\"700px\"\n",
    "figure_1.layout.height=\"500px\"\n",
    "\n",
    "x = np.random.rand(100)\n",
    "y = np.random.rand(100)\n",
    "scatter_1 = plt.scatter(x,y)\n",
    "\n",
    "plt.xlabel(\"X\")\n",
    "plt.ylabel(\"Y\")\n",
    "\n",
    "plt.xlim(0,1)\n",
    "plt.ylim(0,1);\n",
    "\n",
    "# And here, a simple ipywidgets button:\n",
    "btn = widgets.Button(description=\"Start\", icon=\"play\")\n",
    "\n",
    "# Below we have created a callback function which will be called each time\n",
    "# a button is clicked. In the logic of the callback function, we are \n",
    "# looping 10 times, generating 100 new random points, and updating chart\n",
    "# data with this new 100 points. We then stop for 1 second before \n",
    "# proceeding with the next iteration. This loop of 10 iterations with a \n",
    "# pause of 1 second between each iteration will give us simple animation.\n",
    "#\n",
    "# Note that we are updating scatter data using the hold_sync() context \n",
    "# of the scatter chart. The main reason for this is that it'll update \n",
    "# data at the same time synchronously.\n",
    "\n",
    "## Callback to Update Chart\n",
    "def update_scatter_chart(btn):\n",
    "    for i in range(10):\n",
    "        x = np.random.rand(100)\n",
    "        y = np.random.rand(100)\n",
    "        idx = np.random.choice(np.arange(len(colors)))\n",
    "        with scatter_1.hold_sync():\n",
    "            scatter_1.x = x\n",
    "            scatter_1.y = y\n",
    "            scatter_1.colors = [colors[idx]]\n",
    "        time.sleep(1)\n",
    "\n",
    "btn.on_click(update_scatter_chart)\n",
    "\n",
    "# Below we have combined button and scatter chart figure into one UI \n",
    "# using ipywidgets VBox() layout which will layout widgets passed to it\n",
    "# vertically. We can click the button and it'll start the animation by\n",
    "# calling the callback function.\n",
    "\n",
    "## UI Combining Button & Chart\n",
    "widgets.VBox([btn, figure_1])"
   ]
  },
  {
   "cell_type": "code",
   "execution_count": 9,
   "id": "856acfd2",
   "metadata": {},
   "outputs": [
    {
     "data": {
      "application/vnd.jupyter.widget-view+json": {
       "model_id": "669ae2b31c91488b94d7cea491ceaa82",
       "version_major": 2,
       "version_minor": 0
      },
      "text/plain": [
       "VBox(children=(Figure(animation_duration=1000, axes=[Axis(label='X', scale=LinearScale()), Axis(label='Y', ori…"
      ]
     },
     "metadata": {},
     "output_type": "display_data"
    }
   ],
   "source": [
    "# ======================================================================\n",
    "# Example 2\n",
    "#\n",
    "# Our second example consists of the animation of the bar chart. We have\n",
    "# created a simple bar chart of 7 bars each having a different lengths.\n",
    "# We have first created a simple bar chart using default heights and colors.\n",
    "# ======================================================================\n",
    "\n",
    "# We have then created a button widget and a callback function as usual.\n",
    "# The callback function will again loop 15 iterations and each time, \n",
    "# it'll shuffle the heights of the bar chart and update new heights into\n",
    "# the chart. It'll pause for 1 second between each iteration to give us\n",
    "# simple animation.\n",
    "\n",
    "## Chart Creation Logic\n",
    "colors= [\"red\", \"green\", \"blue\", \"orangered\", \"tomato\", \"lawngreen\", \"lime\", \"black\"]\n",
    "heights = [10, 20, 30, 40, 50, 60, 70]\n",
    "\n",
    "fig = bplt.figure(animation_duration=1000,\n",
    "                  title=\"Random Data Bar Chart\",\n",
    "                  fig_margin={'top':60, 'bottom':60, 'left':150, 'right':150},\n",
    "                  background_style={'fill':\"lightgray\"})\n",
    "\n",
    "bar = bplt.bar(x=[1,2,3,4,5],y=heights)\n",
    "\n",
    "bplt.xlabel(\"X\")\n",
    "bplt.ylabel(\"Y\")\n",
    "\n",
    "bplt.ylim(0,75);\n",
    "\n",
    "## Callback to Update Chart\n",
    "def update_bar_chart(btn):\n",
    "    for i in range(15):\n",
    "        idx = np.random.choice(np.arange(len(colors)))\n",
    "        np.random.shuffle(heights)\n",
    "        with bar.hold_sync():\n",
    "            bar.y = heights\n",
    "            bar.colors = [colors[idx]]\n",
    "        time.sleep(1)\n",
    "\n",
    "btn = widgets.Button(description=\"Start Anime\", icon=\"play\")\n",
    "\n",
    "btn.on_click(update_bar_chart)\n",
    "\n",
    "widgets.VBox([fig, btn])\n",
    "\n"
   ]
  },
  {
   "cell_type": "markdown",
   "id": "c6c98175",
   "metadata": {},
   "source": [
    "\n",
    "Example 3\n",
    "\n",
    "Our third example of creating simple animation using bqplot consist of a line chart. We'll be loading the apple OHLC dataset for the same. The apple OHLC dataset is easily available from yahoo finance. We'll be plotting the first line chart with prices of the close price of the stock. We have then created a callback function that will loop 10 times and each time chooses between Open, Close, High, Low and Adj Close prices to update the line chart. The steps followed to create this animation are the same as previous examples.\n"
   ]
  },
  {
   "cell_type": "code",
   "execution_count": 11,
   "id": "d242bf1a",
   "metadata": {},
   "outputs": [
    {
     "data": {
      "text/html": [
       "<div>\n",
       "<style scoped>\n",
       "    .dataframe tbody tr th:only-of-type {\n",
       "        vertical-align: middle;\n",
       "    }\n",
       "\n",
       "    .dataframe tbody tr th {\n",
       "        vertical-align: top;\n",
       "    }\n",
       "\n",
       "    .dataframe thead th {\n",
       "        text-align: right;\n",
       "    }\n",
       "</style>\n",
       "<table border=\"1\" class=\"dataframe\">\n",
       "  <thead>\n",
       "    <tr style=\"text-align: right;\">\n",
       "      <th></th>\n",
       "      <th>Open</th>\n",
       "      <th>High</th>\n",
       "      <th>Low</th>\n",
       "      <th>Close</th>\n",
       "      <th>Adj Close</th>\n",
       "      <th>Volume</th>\n",
       "    </tr>\n",
       "    <tr>\n",
       "      <th>Date</th>\n",
       "      <th></th>\n",
       "      <th></th>\n",
       "      <th></th>\n",
       "      <th></th>\n",
       "      <th></th>\n",
       "      <th></th>\n",
       "    </tr>\n",
       "  </thead>\n",
       "  <tbody>\n",
       "    <tr>\n",
       "      <th>2020-09-14</th>\n",
       "      <td>114.720001</td>\n",
       "      <td>115.930000</td>\n",
       "      <td>112.800003</td>\n",
       "      <td>115.360001</td>\n",
       "      <td>114.622765</td>\n",
       "      <td>140150100</td>\n",
       "    </tr>\n",
       "    <tr>\n",
       "      <th>2020-09-15</th>\n",
       "      <td>118.330002</td>\n",
       "      <td>118.830002</td>\n",
       "      <td>113.610001</td>\n",
       "      <td>115.540001</td>\n",
       "      <td>114.801620</td>\n",
       "      <td>184642000</td>\n",
       "    </tr>\n",
       "    <tr>\n",
       "      <th>2020-09-16</th>\n",
       "      <td>115.230003</td>\n",
       "      <td>116.000000</td>\n",
       "      <td>112.040001</td>\n",
       "      <td>112.129997</td>\n",
       "      <td>111.413406</td>\n",
       "      <td>154679000</td>\n",
       "    </tr>\n",
       "    <tr>\n",
       "      <th>2020-09-17</th>\n",
       "      <td>109.720001</td>\n",
       "      <td>112.199997</td>\n",
       "      <td>108.709999</td>\n",
       "      <td>110.339996</td>\n",
       "      <td>109.634850</td>\n",
       "      <td>178011000</td>\n",
       "    </tr>\n",
       "    <tr>\n",
       "      <th>2020-09-18</th>\n",
       "      <td>110.400002</td>\n",
       "      <td>110.879997</td>\n",
       "      <td>106.089996</td>\n",
       "      <td>106.839996</td>\n",
       "      <td>106.157211</td>\n",
       "      <td>287104900</td>\n",
       "    </tr>\n",
       "  </tbody>\n",
       "</table>\n",
       "</div>"
      ],
      "text/plain": [
       "                  Open        High         Low       Close   Adj Close  \\\n",
       "Date                                                                     \n",
       "2020-09-14  114.720001  115.930000  112.800003  115.360001  114.622765   \n",
       "2020-09-15  118.330002  118.830002  113.610001  115.540001  114.801620   \n",
       "2020-09-16  115.230003  116.000000  112.040001  112.129997  111.413406   \n",
       "2020-09-17  109.720001  112.199997  108.709999  110.339996  109.634850   \n",
       "2020-09-18  110.400002  110.879997  106.089996  106.839996  106.157211   \n",
       "\n",
       "               Volume  \n",
       "Date                   \n",
       "2020-09-14  140150100  \n",
       "2020-09-15  184642000  \n",
       "2020-09-16  154679000  \n",
       "2020-09-17  178011000  \n",
       "2020-09-18  287104900  "
      ]
     },
     "execution_count": 11,
     "metadata": {},
     "output_type": "execute_result"
    }
   ],
   "source": [
    "apple_df = pd.read_csv(\"./AAPL.csv\", index_col=0, parse_dates=True)\n",
    "apple_df.head()"
   ]
  },
  {
   "cell_type": "code",
   "execution_count": 13,
   "id": "61404dd4",
   "metadata": {},
   "outputs": [
    {
     "data": {
      "application/vnd.jupyter.widget-view+json": {
       "model_id": "0e4d7d2ee4d94214a70c6e516304232b",
       "version_major": 2,
       "version_minor": 0
      },
      "text/plain": [
       "VBox(children=(Button(description='Play', icon='play', style=ButtonStyle()), Figure(animation_duration=1000, a…"
      ]
     },
     "metadata": {},
     "output_type": "display_data"
    }
   ],
   "source": [
    "## Chart Creation Logic\n",
    "cols = [\"Open\",\"High\",\"Low\",\"Close\",\"Adj Close\"]\n",
    "\n",
    "colors= [\"red\", \"green\", \"blue\", \"orangered\", \"tomato\", \"lawngreen\", \"lime\", \"black\"]\n",
    "\n",
    "fig = bplt.figure(animation_duration=1000, background_style={'fill':\"lightgray\"},\n",
    "                  legend_location = \"top-left\",\n",
    "                  title=\"Apple September,2020-September,2021 Price Data Animation \")\n",
    "\n",
    "line = bplt.plot(x=apple_df.index,y=apple_df[\"Close\"],\n",
    "                 display_legend=True, labels=[\"Close\"])\n",
    "\n",
    "bplt.xlabel(\"Date\")\n",
    "bplt.xlabel(\"Price ($)\")\n",
    "\n",
    "#bplt.ylim(150, 330)\n",
    "\n",
    "## Callback to Update Chart\n",
    "def update_line_chart(btn):\n",
    "    for i in range(10):\n",
    "        time.sleep(1)\n",
    "        idx1 = np.random.choice(np.arange(len(colors)))\n",
    "        idx2 = np.random.choice(np.arange(len(cols)))\n",
    "        line.y = apple_df[cols[idx2]]\n",
    "        line.colors = [colors[idx1]]\n",
    "        line.labels=[cols[idx2]]\n",
    "\n",
    "btn = widgets.Button(description=\"Play\", icon='play')\n",
    "\n",
    "btn.on_click(update_line_chart)\n",
    "\n",
    "widgets.VBox([btn, fig])"
   ]
  },
  {
   "cell_type": "code",
   "execution_count": null,
   "id": "e03e2018",
   "metadata": {},
   "outputs": [],
   "source": []
  }
 ],
 "metadata": {
  "kernelspec": {
   "display_name": "Python 3",
   "language": "python",
   "name": "python3"
  },
  "language_info": {
   "codemirror_mode": {
    "name": "ipython",
    "version": 3
   },
   "file_extension": ".py",
   "mimetype": "text/x-python",
   "name": "python",
   "nbconvert_exporter": "python",
   "pygments_lexer": "ipython3",
   "version": "3.7.10"
  }
 },
 "nbformat": 4,
 "nbformat_minor": 5
}
